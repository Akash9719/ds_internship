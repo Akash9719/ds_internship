{
 "cells": [
  {
   "cell_type": "markdown",
   "metadata": {},
   "source": [
    "# MACHINE LEARNING"
   ]
  },
  {
   "cell_type": "markdown",
   "metadata": {},
   "source": [
    "In Q1 to Q8, only one option is correct, Choose the correct option:"
   ]
  },
  {
   "cell_type": "raw",
   "metadata": {},
   "source": [
    "1. The computational complexity of linear regression is:\n",
    "A) 𝑂(𝑛2.4)             B) 𝑂(𝑛)\n",
    "C) 𝑂(𝑛2)               D) 𝑂(𝑛3)"
   ]
  },
  {
   "cell_type": "markdown",
   "metadata": {},
   "source": [
    "B"
   ]
  },
  {
   "cell_type": "raw",
   "metadata": {},
   "source": [
    "2. Which of the following can be used to fit non-linear data?\n",
    "A) Lasso Regression          B) Logistic Regression\n",
    "C) Polynomial Regression     D) Ridge Regression"
   ]
  },
  {
   "cell_type": "markdown",
   "metadata": {},
   "source": [
    "B"
   ]
  },
  {
   "cell_type": "raw",
   "metadata": {},
   "source": [
    "3. Which of the following can be used to optimize the cost function of Linear Regression?\n",
    "A) Entropy        B) Gradient Descent\n",
    "C) Pasting        D) None of the above."
   ]
  },
  {
   "cell_type": "markdown",
   "metadata": {},
   "source": [
    "B"
   ]
  },
  {
   "cell_type": "raw",
   "metadata": {},
   "source": [
    "4. Which of the following method does not have closed form solution for its coefficients?\n",
    "A) extrapolation      B) Ridge\n",
    "C) Lasso              D) Elastic Nets"
   ]
  },
  {
   "cell_type": "markdown",
   "metadata": {},
   "source": [
    "C"
   ]
  },
  {
   "cell_type": "raw",
   "metadata": {},
   "source": [
    "5. Which gradient descent algorithm always gives optimal solution?\n",
    "A) Stochastic Gradient Descent     B) Mini-Batch Gradient Descent\n",
    "C) Batch Gradient Descent          D) All of the above"
   ]
  },
  {
   "cell_type": "markdown",
   "metadata": {},
   "source": [
    "D"
   ]
  },
  {
   "cell_type": "raw",
   "metadata": {},
   "source": [
    "6. Generalization error measures how well a model performs on training data.\n",
    "A) True       B) False"
   ]
  },
  {
   "cell_type": "markdown",
   "metadata": {},
   "source": [
    "A"
   ]
  },
  {
   "cell_type": "raw",
   "metadata": {},
   "source": [
    "7. The cost function of linear regression can be given as 𝐽(𝑤0,𝑤1)= 12𝑚Σ(𝑤0+ 𝑤1𝑥(𝑖)− 𝑦(𝑖))2𝑚𝑖=1. The half term at start is due to:\n",
    "A) scaling cost function by half makes gradient descent converge faster.\n",
    "B) presence of half makes it easy to do grid search.\n",
    "C) it does not matter whether half is there or not.\n",
    "D) None of the above."
   ]
  },
  {
   "cell_type": "markdown",
   "metadata": {},
   "source": [
    "C"
   ]
  },
  {
   "cell_type": "raw",
   "metadata": {},
   "source": [
    "8. Which of the following will have symmetric relation between dependent variable and independent variable?\n",
    "A) Regression         B) Correlation\n",
    "C) Both of them       D) None of these"
   ]
  },
  {
   "cell_type": "markdown",
   "metadata": {},
   "source": [
    "B"
   ]
  },
  {
   "cell_type": "markdown",
   "metadata": {},
   "source": [
    "In Q9 to Q11, more than one options are correct, Choose all the correct options:"
   ]
  },
  {
   "cell_type": "raw",
   "metadata": {},
   "source": [
    "9. Which of the following is true about Normal Equation used to compute the coefficient of the Linear Regression?\n",
    "A) We don’t have to choose the learning rate.\n",
    "B) It becomes slow when number of features are very large.\n",
    "C) We need to iterate.\n",
    "D) It does not make use of dependent variable."
   ]
  },
  {
   "cell_type": "markdown",
   "metadata": {},
   "source": [
    "A, B, C"
   ]
  },
  {
   "cell_type": "raw",
   "metadata": {},
   "source": [
    "10. Which of the following statement/s are true if we generated data with the help of polynomial features with 5 degrees of freedom which perfectly fits the data?\n",
    "A) Linear Regression will have high bias and low variance.\n",
    "B) Linear Regression will have low bias and high variance.\n",
    "C) Polynomial with degree 5 will have low bias and high variance.\n",
    "D) Polynomial with degree 5 will have high bias and low variance."
   ]
  },
  {
   "cell_type": "markdown",
   "metadata": {},
   "source": [
    "A, D"
   ]
  },
  {
   "cell_type": "raw",
   "metadata": {},
   "source": [
    "11. Which of the following sentence is false regarding regression?\n",
    "A) It relates inputs to outputs.\n",
    "B) It is used for prediction.\n",
    "C) It discovers causal relationship.\n",
    "D) No inference can be made from regression line."
   ]
  },
  {
   "cell_type": "markdown",
   "metadata": {},
   "source": [
    "C"
   ]
  },
  {
   "cell_type": "markdown",
   "metadata": {},
   "source": [
    "Q12 and Q13 are subjective answer type questions, Answer them briefly."
   ]
  },
  {
   "cell_type": "raw",
   "metadata": {},
   "source": [
    "12. Which Linear Regression training algorithm can we use if we have a training set with millions of features?"
   ]
  },
  {
   "cell_type": "markdown",
   "metadata": {},
   "source": [
    "we can use all gradient descent algorithms like batch gradient descent, stochastic gradient descent, or mini-batch gradient descent."
   ]
  },
  {
   "cell_type": "raw",
   "metadata": {},
   "source": [
    "13. Which algorithms will not suffer or might suffer, if the features in training set have very different scales?"
   ]
  },
  {
   "cell_type": "markdown",
   "metadata": {},
   "source": [
    "we can use various gradient descent algorithm."
   ]
  },
  {
   "cell_type": "markdown",
   "metadata": {},
   "source": [
    "# PYTHON – WORKSHEET 1"
   ]
  },
  {
   "cell_type": "markdown",
   "metadata": {},
   "source": [
    "Q1 to Q8 have only one correct answer. Choose the correct option to answer your question."
   ]
  },
  {
   "cell_type": "raw",
   "metadata": {},
   "source": [
    "1. Which of the following operators is used to calculate remainder in a division?\n",
    "A) #                    B) &\n",
    "C) %                    D) $"
   ]
  },
  {
   "cell_type": "markdown",
   "metadata": {},
   "source": [
    "C"
   ]
  },
  {
   "cell_type": "raw",
   "metadata": {},
   "source": [
    "2. In python 2//3 is equal to?\n",
    "A) 0.666         B) 0\n",
    "C) 1             D) 0.67"
   ]
  },
  {
   "cell_type": "markdown",
   "metadata": {},
   "source": [
    "B"
   ]
  },
  {
   "cell_type": "raw",
   "metadata": {},
   "source": [
    "3. In python, 6<<2 is equal to?\n",
    "A) 36            B) 10\n",
    "C) 24            D) 45"
   ]
  },
  {
   "cell_type": "markdown",
   "metadata": {},
   "source": [
    "C"
   ]
  },
  {
   "cell_type": "raw",
   "metadata": {},
   "source": [
    "4. In python, 6&2 will give which of the following as output?\n",
    "A) 2           B) True\n",
    "C) False       D) 0"
   ]
  },
  {
   "cell_type": "markdown",
   "metadata": {},
   "source": [
    "A"
   ]
  },
  {
   "cell_type": "raw",
   "metadata": {},
   "source": [
    "5. In python, 6|2 will give which of the following as output?\n",
    "A) 2       B) 4\n",
    "C) 0       D) 6"
   ]
  },
  {
   "cell_type": "markdown",
   "metadata": {},
   "source": [
    "D"
   ]
  },
  {
   "cell_type": "raw",
   "metadata": {},
   "source": [
    "6. What does the finally keyword denotes in python?\n",
    "A) It is used to mark the end of the code\n",
    "B) It encloses the lines of code which will be executed if any error occurs while executing the lines of code in\n",
    "the try block.\n",
    "C) the finally block will be executed no matter if the try block raises an error or not.\n",
    "D) None of the above"
   ]
  },
  {
   "cell_type": "markdown",
   "metadata": {},
   "source": [
    "C"
   ]
  },
  {
   "cell_type": "raw",
   "metadata": {},
   "source": [
    "7. What does raise keyword is used for in python?\n",
    "A) It is used to raise an exception.       B) It is used to define lambda function\n",
    "C) it's not a keyword in python.           D) None of the above"
   ]
  },
  {
   "cell_type": "markdown",
   "metadata": {},
   "source": [
    "A"
   ]
  },
  {
   "cell_type": "raw",
   "metadata": {},
   "source": [
    "8. Which of the following is a common use case of yield keyword in python?\n",
    "A) in defining an iterator              B) while defining a lambda function\n",
    "C) in defining a generator              D) in for loop."
   ]
  },
  {
   "cell_type": "markdown",
   "metadata": {},
   "source": [
    "C"
   ]
  },
  {
   "cell_type": "raw",
   "metadata": {},
   "source": [
    "9. Which of the following are the valid variable names?\n",
    "A) _abc            B) 1abc\n",
    "C) abc2            D) None of the above"
   ]
  },
  {
   "cell_type": "markdown",
   "metadata": {},
   "source": [
    "A, C"
   ]
  },
  {
   "cell_type": "raw",
   "metadata": {},
   "source": [
    "10. Which of the following are the keywords in python?\n",
    "A) yield              B) raise\n",
    "C) look-in            D) all of the above"
   ]
  },
  {
   "cell_type": "markdown",
   "metadata": {},
   "source": [
    "D"
   ]
  },
  {
   "cell_type": "markdown",
   "metadata": {},
   "source": [
    "# Codes"
   ]
  },
  {
   "cell_type": "markdown",
   "metadata": {},
   "source": [
    "Q11 to Q15 are programming questions. Answer them in Jupyter Notebook."
   ]
  },
  {
   "cell_type": "raw",
   "metadata": {},
   "source": [
    "11. Write a python program to find the factorial of a number."
   ]
  },
  {
   "cell_type": "code",
   "execution_count": 11,
   "metadata": {},
   "outputs": [
    {
     "name": "stdout",
     "output_type": "stream",
     "text": [
      "Enter the number :25\n",
      "Factorial is [1, 2]\n"
     ]
    }
   ],
   "source": [
    "import functools as ft\n",
    "\n",
    "num=int(input('Enter the number :')) \n",
    "\n",
    "lst = [x for x in range(1, num+1)] \n",
    "fact = ft.reduce(lambda x,y:x*y,lst) \n",
    "if num==1 or num==0: \n",
    "    print('Factorial is 1') \n",
    "else: \n",
    "    print('Factorial is {}'.format(factorial)) "
   ]
  },
  {
   "cell_type": "raw",
   "metadata": {},
   "source": [
    "12. Write a python program to find whether a number is prime or composite."
   ]
  },
  {
   "cell_type": "code",
   "execution_count": 13,
   "metadata": {},
   "outputs": [
    {
     "name": "stdout",
     "output_type": "stream",
     "text": [
      "Enter the number :7\n",
      "7 is a prime number\n"
     ]
    }
   ],
   "source": [
    "num = int(input('Enter the number :'))\n",
    "if num > 1:\n",
    "    for i in range(2, int(num/2)+1):\n",
    "        if (num % i) == 0:\n",
    "            print(num, \"is composite number\")\n",
    "            break\n",
    "    else:\n",
    "        print(num, \"is a prime number\")\n",
    " \n",
    "else:\n",
    "    print(num, \"is composite number\")"
   ]
  },
  {
   "cell_type": "raw",
   "metadata": {},
   "source": [
    "13. Write a python program to check whether a given string is palindrome or not."
   ]
  },
  {
   "cell_type": "code",
   "execution_count": 14,
   "metadata": {},
   "outputs": [
    {
     "name": "stdout",
     "output_type": "stream",
     "text": [
      "Enter a string:akash\n",
      "The string is not a palindrome.\n"
     ]
    }
   ],
   "source": [
    "word = (input('Enter a string:'))\n",
    "word = word.casefold()\n",
    "new_str = reversed(word)\n",
    "\n",
    "if list(word) == list(new_str):\n",
    "   print(\"The string is a palindrome.\")\n",
    "else:\n",
    "   print(\"The string is not a palindrome.\")"
   ]
  },
  {
   "cell_type": "raw",
   "metadata": {},
   "source": [
    "14. Write a Python program to get the third side of right-angled triangle from two given sides."
   ]
  },
  {
   "cell_type": "code",
   "execution_count": 15,
   "metadata": {},
   "outputs": [
    {
     "name": "stdout",
     "output_type": "stream",
     "text": [
      "Enter side one :45\n",
      "Enter side two :30\n",
      "biggest side : 54.08326913195984\n"
     ]
    }
   ],
   "source": [
    "side1 = int(input(\"Enter side one :\"))\n",
    "side2 = int(input(\"Enter side two :\"))\n",
    "angle = 90 \n",
    "print(\"biggest side :\" ,(side1**2 + side2**2 )**0.5)"
   ]
  },
  {
   "cell_type": "raw",
   "metadata": {},
   "source": [
    "15. Write a python program to print the frequency of each of the characters present in a given string."
   ]
  },
  {
   "cell_type": "code",
   "execution_count": 2,
   "metadata": {},
   "outputs": [
    {
     "name": "stdout",
     "output_type": "stream",
     "text": [
      "Count of all characters in GeeksforGeeks is :\n",
      " {'a': 2, 'k': 1, 's': 1, 'h': 1}\n"
     ]
    }
   ],
   "source": [
    "test_str = \"akash\"\n",
    "all_freq = {}\n",
    "  \n",
    "for i in test_str:\n",
    "    if i in all_freq:\n",
    "        all_freq[i] += 1\n",
    "    else:\n",
    "        all_freq[i] = 1\n",
    "        \n",
    "print (\"Count of all character is :\\n \"\n",
    "                                        +  str(all_freq))"
   ]
  },
  {
   "cell_type": "markdown",
   "metadata": {},
   "source": [
    "# STATISTICS WORKSHEET-1"
   ]
  },
  {
   "cell_type": "markdown",
   "metadata": {},
   "source": [
    "Q1 to Q9 have only one correct answer. Choose the correct option to answer your question."
   ]
  },
  {
   "cell_type": "raw",
   "metadata": {},
   "source": [
    "1. Bernoulli random variables take (only) the values 1 and 0.\n",
    "a) True\n",
    "b) False"
   ]
  },
  {
   "cell_type": "markdown",
   "metadata": {},
   "source": [
    "A"
   ]
  },
  {
   "cell_type": "raw",
   "metadata": {},
   "source": [
    "2. Which of the following theorem states that the distribution of averages of iid variables, properly normalized, becomes that of a standard normal as the sample size increases?\n",
    "a) Central Limit Theorem\n",
    "b) Central Mean Theorem\n",
    "c) Centroid Limit Theorem\n",
    "d) All of the mentioned"
   ]
  },
  {
   "cell_type": "markdown",
   "metadata": {},
   "source": [
    "A"
   ]
  },
  {
   "cell_type": "raw",
   "metadata": {},
   "source": [
    "3. Which of the following is incorrect with respect to use of Poisson distribution?\n",
    "a) Modeling event/time data\n",
    "b) Modeling bounded count data\n",
    "c) Modeling contingency tables\n",
    "d) All of the mentioned"
   ]
  },
  {
   "cell_type": "markdown",
   "metadata": {},
   "source": [
    "B"
   ]
  },
  {
   "cell_type": "raw",
   "metadata": {},
   "source": [
    "4. Point out the correct statement.\n",
    "a) The exponent of a normally distributed random variables follows what is called the log- normal distribution\n",
    "b) Sums of normally distributed random variables are again normally distributed even if the variables are dependent\n",
    "c) The square of a standard normal random variable follows what is called chi-squared distribution\n",
    "d) All of the mentioned"
   ]
  },
  {
   "cell_type": "markdown",
   "metadata": {},
   "source": [
    "D"
   ]
  },
  {
   "cell_type": "raw",
   "metadata": {},
   "source": [
    "5. ______ random variables are used to model rates.\n",
    "a) Empirical\n",
    "b) Binomial\n",
    "c) Poisson\n",
    "d) All of the mentioned"
   ]
  },
  {
   "cell_type": "markdown",
   "metadata": {},
   "source": [
    "C"
   ]
  },
  {
   "cell_type": "raw",
   "metadata": {},
   "source": [
    "6. 10. Usually replacing the standard error by its estimated value does change the CLT.\n",
    "a) True\n",
    "b) False"
   ]
  },
  {
   "cell_type": "markdown",
   "metadata": {},
   "source": [
    "B"
   ]
  },
  {
   "cell_type": "raw",
   "metadata": {},
   "source": [
    "7. 1. Which of the following testing is concerned with making decisions using data?\n",
    "a) Probability\n",
    "b) Hypothesis\n",
    "c) Causal\n",
    "d) None of the mentioned"
   ]
  },
  {
   "cell_type": "markdown",
   "metadata": {},
   "source": [
    "B"
   ]
  },
  {
   "cell_type": "raw",
   "metadata": {},
   "source": [
    "8. 4. Normalized data are centered at______and have units equal to standard deviations of the original data.\n",
    "a) 0\n",
    "b) 5\n",
    "c) 1\n",
    "d) 10"
   ]
  },
  {
   "cell_type": "markdown",
   "metadata": {},
   "source": [
    "A"
   ]
  },
  {
   "cell_type": "raw",
   "metadata": {},
   "source": [
    "9. Which of the following statement is incorrect with respect to outliers?\n",
    "a) Outliers can have varying degrees of influence\n",
    "b) Outliers can be the result of spurious or real processes\n",
    "c) Outliers cannot conform to the regression relationship\n",
    "d) None of the mentioned"
   ]
  },
  {
   "cell_type": "markdown",
   "metadata": {},
   "source": [
    "C"
   ]
  },
  {
   "cell_type": "markdown",
   "metadata": {},
   "source": [
    "# WORKSHEET"
   ]
  },
  {
   "cell_type": "markdown",
   "metadata": {},
   "source": [
    "Q10and Q15 are subjective answer type questions, Answer them in your own words briefly."
   ]
  },
  {
   "cell_type": "raw",
   "metadata": {},
   "source": [
    "10. What do you understand by the term Normal Distribution?"
   ]
  },
  {
   "cell_type": "markdown",
   "metadata": {},
   "source": [
    "Normal distribution is collection of symmetric data which forms a perfect bell shape curved, half data in the left of the mean and half data at right of the mean."
   ]
  },
  {
   "cell_type": "raw",
   "metadata": {},
   "source": [
    "11. How do you handle missing data? What imputation techniques do you recommend?"
   ]
  },
  {
   "cell_type": "markdown",
   "metadata": {},
   "source": [
    "we can remove the rows with missing values as well as we can use mean, median, mode to fill nan values . best technique is cold - deck imputation."
   ]
  },
  {
   "cell_type": "raw",
   "metadata": {},
   "source": [
    "12. What is A/B testing?"
   ]
  },
  {
   "cell_type": "markdown",
   "metadata": {},
   "source": [
    "A/B testing is a method of comparing two versions of a webpage or app against each other to check which one is performing better."
   ]
  },
  {
   "cell_type": "raw",
   "metadata": {},
   "source": [
    "13. Is mean imputation of missing data acceptable practice?"
   ]
  },
  {
   "cell_type": "markdown",
   "metadata": {},
   "source": [
    "True mean imputation of missing data is an acceptable practice because if the data are missing the roughly calculated mean remains unbiased."
   ]
  },
  {
   "cell_type": "raw",
   "metadata": {},
   "source": [
    "14. What is linear regression in statistics?"
   ]
  },
  {
   "cell_type": "markdown",
   "metadata": {},
   "source": [
    "linear regression is a regression model that estimates the relationship between one independent variable and one dependent variable using a straight line. Both variables should be quantitative."
   ]
  },
  {
   "cell_type": "raw",
   "metadata": {},
   "source": [
    "15. What are the various branches of statistics?"
   ]
  },
  {
   "cell_type": "markdown",
   "metadata": {},
   "source": [
    "There are three real branches of statistics: data collection, descriptive statistics and inferential statistics"
   ]
  },
  {
   "cell_type": "code",
   "execution_count": null,
   "metadata": {},
   "outputs": [],
   "source": []
  }
 ],
 "metadata": {
  "kernelspec": {
   "display_name": "Python 3",
   "language": "python",
   "name": "python3"
  },
  "language_info": {
   "codemirror_mode": {
    "name": "ipython",
    "version": 3
   },
   "file_extension": ".py",
   "mimetype": "text/x-python",
   "name": "python",
   "nbconvert_exporter": "python",
   "pygments_lexer": "ipython3",
   "version": "3.8.5"
  }
 },
 "nbformat": 4,
 "nbformat_minor": 4
}
